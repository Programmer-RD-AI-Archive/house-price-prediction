{
 "cells": [
  {
   "cell_type": "code",
   "execution_count": 1,
   "metadata": {},
   "outputs": [],
   "source": [
    "## Load the data"
   ]
  },
  {
   "cell_type": "code",
   "execution_count": 2,
   "metadata": {},
   "outputs": [],
   "source": [
    "import pandas as pd"
   ]
  },
  {
   "cell_type": "code",
   "execution_count": 3,
   "metadata": {},
   "outputs": [
    {
     "name": "stdout",
     "output_type": "stream",
     "text": [
      "                     date     price  bedrooms  bathrooms  sqft_living  \\\n",
      "1888  2014-06-04 00:00:00  371000.0       3.0       1.50         1420   \n",
      "909   2014-05-19 00:00:00  850000.0       4.0       3.50         2640   \n",
      "775   2014-05-15 00:00:00  344000.0       3.0       2.50         1232   \n",
      "4235  2014-07-09 00:00:00  379000.0       3.0       2.50         1530   \n",
      "1324  2014-05-27 00:00:00  529000.0       3.0       1.00         1210   \n",
      "...                   ...       ...       ...        ...          ...   \n",
      "777   2014-05-15 00:00:00  386380.0       3.0       2.50         1720   \n",
      "2258  2014-06-10 00:00:00  680000.0       3.0       1.75         1760   \n",
      "844   2014-05-16 00:00:00  675000.0       5.0       2.50         3200   \n",
      "1479  2014-05-28 00:00:00  565000.0       7.0       4.50         4140   \n",
      "3424  2014-06-26 00:00:00  310000.0       4.0       2.50         2430   \n",
      "\n",
      "      sqft_lot  floors  waterfront  view  condition  sqft_above  \\\n",
      "1888      4500     1.0           0     0          3        1420   \n",
      "909       5900     2.0           0     2          3        2640   \n",
      "775       1130     3.0           0     0          3        1232   \n",
      "4235      2913     2.0           0     0          4        1530   \n",
      "1324      3328     1.5           0     0          4        1210   \n",
      "...        ...     ...         ...   ...        ...         ...   \n",
      "777       3600     2.0           0     0          3        1720   \n",
      "2258      8400     1.0           0     0          4        1460   \n",
      "844       6455     2.0           0     0          3        3200   \n",
      "1479      9066     1.0           0     0          3        2070   \n",
      "3424      5499     2.0           0     0          3        2430   \n",
      "\n",
      "      sqft_basement  yr_built  yr_renovated                    street  \\\n",
      "1888              0      1959          1989            2142 N 90th St   \n",
      "909               0      1937          1998          6728 40th Ave SW   \n",
      "775               0      2007             0        12331 A 10th Pl NE   \n",
      "4235              0      1986             0         11807 NE 105th Ct   \n",
      "1324              0      1924             0           6015 5th Ave NW   \n",
      "...             ...       ...           ...                       ...   \n",
      "777               0      2010             0          9881 244th Pl NE   \n",
      "2258            300      1960          2001          7510 45th Ave SW   \n",
      "844               0      2009             0  6227-6299 Whitaker Ln SE   \n",
      "1479           2070      1978             0         14007 35th Ave NE   \n",
      "3424              0      2002             0         16218 163rd Pl SE   \n",
      "\n",
      "            city  statezip country  \n",
      "1888     Seattle  WA 98103     USA  \n",
      "909      Seattle  WA 98136     USA  \n",
      "775      Seattle  WA 98125     USA  \n",
      "4235    Kirkland  WA 98033     USA  \n",
      "1324     Seattle  WA 98107     USA  \n",
      "...          ...       ...     ...  \n",
      "777      Redmond  WA 98053     USA  \n",
      "2258     Seattle  WA 98136     USA  \n",
      "844   Snoqualmie  WA 98065     USA  \n",
      "1479     Seattle  WA 98125     USA  \n",
      "3424   Covington  WA 98042     USA  \n",
      "\n",
      "[4600 rows x 18 columns]"
     ]
    }
   ],
   "source": [
    "data = pd.read_csv('./data.csv')\n",
    "data.sample(frac=1)"
   ]
  },
  {
   "cell_type": "code",
   "execution_count": 4,
   "metadata": {},
   "outputs": [],
   "source": [
    "## Clean the data"
   ]
  },
  {
   "cell_type": "code",
   "execution_count": 5,
   "metadata": {},
   "outputs": [
    {
     "name": "stdout",
     "output_type": "stream",
     "text": [
      "Index(['date', 'price', 'bedrooms', 'bathrooms', 'sqft_living', 'sqft_lot',\n",
      "       'floors', 'waterfront', 'view', 'condition', 'sqft_above',\n",
      "       'sqft_basement', 'yr_built', 'yr_renovated', 'street', 'city',\n",
      "       'statezip', 'country'],\n",
      "      dtype='object')"
     ]
    }
   ],
   "source": [
    "data.columns"
   ]
  },
  {
   "cell_type": "code",
   "execution_count": 6,
   "metadata": {},
   "outputs": [],
   "source": [
    "data.drop(['sqft_living','sqft_lot','waterfront','view','condition','sqft_above','sqft_basement','street','city','statezip','country'],axis=1,inplace=True)"
   ]
  },
  {
   "cell_type": "code",
   "execution_count": 7,
   "metadata": {},
   "outputs": [],
   "source": [
    "data.drop('date',axis=1,inplace=True)"
   ]
  },
  {
   "cell_type": "code",
   "execution_count": 8,
   "metadata": {},
   "outputs": [
    {
     "name": "stdout",
     "output_type": "stream",
     "text": [
      "       price  bedrooms  bathrooms  floors  yr_built  yr_renovated\n",
      "0   313000.0       3.0       1.50     1.5      1955          2005\n",
      "1  2384000.0       5.0       2.50     2.0      1921             0\n",
      "2   342000.0       3.0       2.00     1.0      1966             0\n",
      "3   420000.0       3.0       2.25     1.0      1963             0\n",
      "4   550000.0       4.0       2.50     1.0      1976          1992"
     ]
    }
   ],
   "source": [
    "data.head()"
   ]
  },
  {
   "cell_type": "code",
   "execution_count": 9,
   "metadata": {},
   "outputs": [],
   "source": [
    "## Feature Enginnering"
   ]
  },
  {
   "cell_type": "code",
   "execution_count": 10,
   "metadata": {},
   "outputs": [],
   "source": [
    "def fe(data,col):\n",
    "    print(len(data))\n",
    "    max_no = data[col].quantile(0.99)\n",
    "    min_no = data[col].quantile(0.05)\n",
    "    data = data[data[col] > min_no]\n",
    "    data = data[data[col] < max_no]\n",
    "    print(len(data))\n",
    "    return data"
   ]
  },
  {
   "cell_type": "code",
   "execution_count": 11,
   "metadata": {},
   "outputs": [],
   "source": [
    "for col in list(data.columns):\n",
    "    print(col)\n",
    "    data = fe(data,'price')"
   ]
  },
  {
   "cell_type": "code",
   "execution_count": 12,
   "metadata": {},
   "outputs": [
    {
     "name": "stdout",
     "output_type": "stream",
     "text": [
      "      price  bedrooms  bathrooms  floors  yr_built  yr_renovated\n",
      "2  342000.0       3.0       2.00     1.0      1966             0\n",
      "3  420000.0       3.0       2.25     1.0      1963             0\n",
      "4  550000.0       4.0       2.50     1.0      1976          1992\n",
      "5  490000.0       2.0       1.00     1.0      1938          1994\n",
      "6  335000.0       2.0       2.00     1.0      1976             0"
     ]
    }
   ],
   "source": [
    "data.head()"
   ]
  },
  {
   "cell_type": "code",
   "execution_count": 13,
   "metadata": {},
   "outputs": [],
   "source": [
    "X = data.drop('price',axis=1)\n",
    "y = data['price']"
   ]
  },
  {
   "cell_type": "code",
   "execution_count": 14,
   "metadata": {},
   "outputs": [],
   "source": [
    "from sklearn.model_selection import train_test_split"
   ]
  },
  {
   "cell_type": "code",
   "execution_count": 15,
   "metadata": {},
   "outputs": [],
   "source": [
    "X_train,X_test,y_train,y_test = train_test_split(X,y,test_size=0.25)"
   ]
  },
  {
   "cell_type": "code",
   "execution_count": 16,
   "metadata": {},
   "outputs": [
    {
     "name": "stdout",
     "output_type": "stream",
     "text": [
      "(2367, 789)"
     ]
    }
   ],
   "source": [
    "len(X_train),len(X_test)"
   ]
  },
  {
   "cell_type": "code",
   "execution_count": 17,
   "metadata": {},
   "outputs": [],
   "source": [
    "## Modelling"
   ]
  },
  {
   "cell_type": "code",
   "execution_count": 18,
   "metadata": {},
   "outputs": [],
   "source": [
    "import torch\n",
    "import torch.nn as nn\n",
    "import torch.optim as optim"
   ]
  },
  {
   "cell_type": "code",
   "execution_count": 19,
   "metadata": {},
   "outputs": [],
   "source": [
    "import torch.nn.functional as F"
   ]
  },
  {
   "cell_type": "code",
   "execution_count": 20,
   "metadata": {},
   "outputs": [],
   "source": [
    "class BaseLine_Model(nn.Module):\n",
    "    def __init__(self,input_shape,output_shape):\n",
    "        super().__init__()\n",
    "        self.fc1 = nn.Linear(input_shape,64)\n",
    "        self.fc2 = nn.Linear(64,128)\n",
    "        self.fc3 = nn.Linear(128,256)\n",
    "        self.fc4 = nn.Linear(256,128)\n",
    "        self.fc5 = nn.Linear(128,output_shape)\n",
    "    \n",
    "    def forward(self,X):\n",
    "        preds = self.fc1(X)\n",
    "        preds = F.relu(preds)\n",
    "        preds = self.fc2(preds)\n",
    "        preds = F.relu(preds)\n",
    "        preds = self.fc3(preds)\n",
    "        preds = F.relu(preds)\n",
    "        preds = self.fc4(preds)\n",
    "        preds = F.relu(preds)\n",
    "        preds = self.fc5(preds)\n",
    "        return preds"
   ]
  },
  {
   "cell_type": "code",
   "execution_count": 21,
   "metadata": {},
   "outputs": [],
   "source": [
    "import wandb"
   ]
  },
  {
   "cell_type": "code",
   "execution_count": 22,
   "metadata": {},
   "outputs": [],
   "source": [
    "BATCH_SIZE = 32"
   ]
  },
  {
   "cell_type": "code",
   "execution_count": 23,
   "metadata": {},
   "outputs": [],
   "source": [
    "PROJECT_NAME = 'House-Price-Pred'"
   ]
  },
  {
   "cell_type": "code",
   "execution_count": 24,
   "metadata": {},
   "outputs": [],
   "source": [
    "from tqdm import tqdm"
   ]
  },
  {
   "cell_type": "code",
   "execution_count": 25,
   "metadata": {},
   "outputs": [],
   "source": [
    "device = torch.device('cuda')"
   ]
  },
  {
   "cell_type": "code",
   "execution_count": 26,
   "metadata": {},
   "outputs": [],
   "source": [
    "def get_loss(criterion,X,y,model):\n",
    "    model.eval()\n",
    "    with torch.no_grad():\n",
    "        preds = model(X.float().to(device))\n",
    "        preds = preds.to(device)\n",
    "        y = y.to(device)\n",
    "        loss = criterion(preds,y)\n",
    "    model.train()\n",
    "    return loss.item()\n",
    "def get_accuracy(X,y,model):\n",
    "    model.eval()\n",
    "    with torch.no_grad():\n",
    "        correct = 0\n",
    "        total = 0\n",
    "        for i in range(len(X)):\n",
    "            pred = model(X[i].float().to(device))\n",
    "            pred.to(device)\n",
    "            if round(int(pred[0])) == round(int(y[i])):\n",
    "                correct += 1\n",
    "            total += 1\n",
    "        if correct == 0:\n",
    "            correct += 1\n",
    "    model.train()\n",
    "    return round(correct/total,3)"
   ]
  },
  {
   "cell_type": "code",
   "execution_count": 27,
   "metadata": {},
   "outputs": [],
   "source": [
    "import numpy as np"
   ]
  },
  {
   "cell_type": "code",
   "execution_count": 28,
   "metadata": {},
   "outputs": [],
   "source": [
    "X_train = torch.from_numpy(np.array(X_train))\n",
    "y_train = torch.from_numpy(np.array(y_train))\n",
    "X_test = torch.from_numpy(np.array(X_test))\n",
    "y_test = torch.from_numpy(np.array(y_test))"
   ]
  },
  {
   "cell_type": "code",
   "execution_count": 29,
   "metadata": {},
   "outputs": [],
   "source": [
    "get_accuracy(X_test,y_test,model)"
   ]
  },
  {
   "cell_type": "code",
   "execution_count": 30,
   "metadata": {},
   "outputs": [],
   "source": [
    "EPOCHS = 112"
   ]
  },
  {
   "cell_type": "code",
   "execution_count": 31,
   "metadata": {},
   "outputs": [],
   "source": [
    "# get_accuracy(X_test,y_test,model)"
   ]
  },
  {
   "cell_type": "code",
   "execution_count": 32,
   "metadata": {},
   "outputs": [],
   "source": [
    "EPOCHS = 112"
   ]
  },
  {
   "cell_type": "code",
   "execution_count": 33,
   "metadata": {},
   "outputs": [],
   "source": [
    "# wandb.init(project=PROJECT_NAME,name='baseline')\n",
    "# for _ in tqdm(range(EPOCHS)):\n",
    "#     model.to(device)\n",
    "#     preds = model(X_train.float().to(device))\n",
    "#     preds = preds.view(len(preds),)\n",
    "#     preds.to(device)\n",
    "#     loss = criterion(preds.float(),y_train.float().to(device))\n",
    "#     optimizer.zero_grad()\n",
    "#     loss.backward()\n",
    "#     optimizer.step()\n",
    "#     wandb.log({'loss':loss.item(),'val_loss':get_loss(criterion,X_test,y_test,model),'accuracy':get_accuracy(X_train,y_train,model),'val_accuracy':get_accuracy(X_test,y_test,model)})"
   ]
  },
  {
   "cell_type": "code",
   "execution_count": 34,
   "metadata": {},
   "outputs": [],
   "source": [
    "# preds"
   ]
  },
  {
   "cell_type": "code",
   "execution_count": 35,
   "metadata": {},
   "outputs": [],
   "source": [
    "# y_train"
   ]
  },
  {
   "cell_type": "code",
   "execution_count": 36,
   "metadata": {},
   "outputs": [],
   "source": [
    "# torch.round(preds)"
   ]
  },
  {
   "cell_type": "code",
   "execution_count": 37,
   "metadata": {},
   "outputs": [],
   "source": [
    "# torch.round(y_train)"
   ]
  },
  {
   "cell_type": "code",
   "execution_count": 38,
   "metadata": {},
   "outputs": [],
   "source": [
    "import matplotlib.pyplot as plt"
   ]
  },
  {
   "cell_type": "code",
   "execution_count": 39,
   "metadata": {},
   "outputs": [],
   "source": [
    "# preds[0]"
   ]
  },
  {
   "cell_type": "code",
   "execution_count": 40,
   "metadata": {},
   "outputs": [],
   "source": [
    "# y_train[0]"
   ]
  },
  {
   "cell_type": "code",
   "execution_count": 41,
   "metadata": {},
   "outputs": [],
   "source": [
    "# model.eval()\n",
    "# with torch.no_grad():\n",
    "# #     preds = model(X_test.float().to(device))"
   ]
  },
  {
   "cell_type": "code",
   "execution_count": 42,
   "metadata": {},
   "outputs": [],
   "source": [
    "# for index in range(12):\n",
    "#     print(preds[index][0])\n",
    "#     print(y_test[index])\n",
    "#     print('\\n')"
   ]
  },
  {
   "cell_type": "code",
   "execution_count": 43,
   "metadata": {},
   "outputs": [],
   "source": [
    "class Test_Model(nn.Module):\n",
    "    def __init__(self,input_shape=5,output_shape=1,num_of_layers=2,activation=F.relu,fc1_output=64,fc2_output=128,fc3_output=256):\n",
    "        super().__init__()\n",
    "        self.activation = activation\n",
    "        self.num_of_layers = num_of_layers\n",
    "        self.fc1 = nn.Linear(input_shape,fc1_output)\n",
    "        self.fc2 = nn.Linear(fc1_output,fc2_output)\n",
    "        self.fc3 = nn.Linear(fc2_output,fc3_output)\n",
    "        self.fc4 = nn.Linear(fc3_output,fc2_output)\n",
    "        self.fc5 = nn.Linear(fc2_output,fc2_output)\n",
    "        self.fc6 = nn.Linear(fc2_output,output_shape)\n",
    "    \n",
    "    def forward(self,X):\n",
    "        preds = self.fc1(X)\n",
    "        preds = self.activation(preds)\n",
    "        preds = self.fc2(preds)\n",
    "        preds = self.activation(preds)\n",
    "        preds = self.fc3(preds)\n",
    "        preds = self.activation(preds)\n",
    "        preds = self.fc4(preds)\n",
    "        for _ in range(self.num_of_layers):\n",
    "            preds = self.fc5(preds)\n",
    "            preds = self.activation(preds)\n",
    "        preds = self.fc6(preds)\n",
    "        return preds"
   ]
  },
  {
   "cell_type": "code",
   "execution_count": 44,
   "metadata": {},
   "outputs": [],
   "source": [
    "# num_of_layers = \n",
    "# activation = nn.LeakyReLU()\n",
    "# lr = \n",
    "# criterion = torch.nn.HingeEmbeddingLoss()\n",
    "# optimizer = torch.optim.Adamax()"
   ]
  },
  {
   "cell_type": "code",
   "execution_count": 45,
   "metadata": {},
   "outputs": [
    {
     "data": {
      "text/html": [
       "Finishing last run (ID:1onh4r6w) before initializing another..."
      ],
      "text/plain": [
       "<IPython.core.display.HTML object>"
      ]
     },
     "metadata": {},
     "output_type": "display_data"
    },
    {
     "data": {
      "text/html": [
       "<br/>Waiting for W&B process to finish, PID 678886<br/>Program ended successfully."
      ],
      "text/plain": [
       "<IPython.core.display.HTML object>"
      ]
     },
     "metadata": {},
     "output_type": "display_data"
    },
    {
     "data": {
      "application/vnd.jupyter.widget-view+json": {
       "model_id": "a38314e09aa445dbad03d22f697593b4",
       "version_major": 2,
       "version_minor": 0
      },
      "text/plain": [
       "VBox(children=(Label(value=' 0.00MB of 0.00MB uploaded (0.00MB deduped)\\r'), FloatProgress(value=1.0, max=1.0)…"
      ]
     },
     "metadata": {},
     "output_type": "display_data"
    },
    {
     "data": {
      "text/html": [
       "Find user logs for this run at: <code>/home/indika/Programming/Projects/Python/Artifical-Intelligence/PyTorch/Regression/house-price-preds/wandb/run-20210519_223051-1onh4r6w/logs/debug.log</code>"
      ],
      "text/plain": [
       "<IPython.core.display.HTML object>"
      ]
     },
     "metadata": {},
     "output_type": "display_data"
    },
    {
     "data": {
      "text/html": [
       "Find internal logs for this run at: <code>/home/indika/Programming/Projects/Python/Artifical-Intelligence/PyTorch/Regression/house-price-preds/wandb/run-20210519_223051-1onh4r6w/logs/debug-internal.log</code>"
      ],
      "text/plain": [
       "<IPython.core.display.HTML object>"
      ]
     },
     "metadata": {},
     "output_type": "display_data"
    },
    {
     "data": {
      "text/html": [
       "<h3>Run summary:</h3><br/><style>\n",
       "    table.wandb td:nth-child(1) { padding: 0 10px; text-align: right }\n",
       "    </style><table class=\"wandb\">\n",
       "<tr><td>loss</td><td>1.0</td></tr><tr><td>val_loss</td><td>1.0</td></tr><tr><td>accuracy</td><td>0.0</td></tr><tr><td>val_accuracy</td><td>0.001</td></tr><tr><td>_runtime</td><td>112</td></tr><tr><td>_timestamp</td><td>1621443773</td></tr><tr><td>_step</td><td>111</td></tr></table>"
      ],
      "text/plain": [
       "<IPython.core.display.HTML object>"
      ]
     },
     "metadata": {},
     "output_type": "display_data"
    },
    {
     "data": {
      "text/html": [
       "<h3>Run history:</h3><br/><style>\n",
       "    table.wandb td:nth-child(1) { padding: 0 10px; text-align: right }\n",
       "    </style><table class=\"wandb\">\n",
       "<tr><td>loss</td><td>▁▁▁▁▁▁▁▁▁▁▁▁▁▁▁▁▁▁▁▁▁▁▁▁▁▁▁▁▁▁▁▁▁▁▁▁▁▁▁▁</td></tr><tr><td>val_loss</td><td>▁▁▁▁▁▁▁▁▁▁▁▁▁▁▁▁▁▁▁▁▁▁▁▁▁▁▁▁▁▁▁▁▁▁▁▁▁▁▁▁</td></tr><tr><td>accuracy</td><td>▁▁▁▁▁▁▁▁▁▁▁▁▁▁▁▁▁▁▁▁▁▁▁▁▁▁▁▁▁▁▁▁▁▁▁▁▁▁▁▁</td></tr><tr><td>val_accuracy</td><td>▁▁▁▁▁▁▁▁▁▁▁▁▁▁▁▁▁▁▁▁▁▁▁▁▁▁▁▁▁▁▁▁▁▁▁▁▁▁▁▁</td></tr><tr><td>_runtime</td><td>▁▁▁▂▂▂▂▂▂▃▃▃▃▃▃▄▄▄▄▄▅▅▅▅▅▅▆▆▆▆▆▇▇▇▇▇▇███</td></tr><tr><td>_timestamp</td><td>▁▁▁▂▂▂▂▂▂▃▃▃▃▃▃▄▄▄▄▄▅▅▅▅▅▅▆▆▆▆▆▇▇▇▇▇▇███</td></tr><tr><td>_step</td><td>▁▁▁▂▂▂▂▂▂▃▃▃▃▃▃▄▄▄▄▄▅▅▅▅▅▅▆▆▆▆▆▇▇▇▇▇▇███</td></tr></table><br/>"
      ],
      "text/plain": [
       "<IPython.core.display.HTML object>"
      ]
     },
     "metadata": {},
     "output_type": "display_data"
    },
    {
     "data": {
      "text/html": [
       "Synced 6 W&B file(s), 0 media file(s), 0 artifact file(s) and 0 other file(s)"
      ],
      "text/plain": [
       "<IPython.core.display.HTML object>"
      ]
     },
     "metadata": {},
     "output_type": "display_data"
    },
    {
     "data": {
      "text/html": [
       "\n",
       "                    <br/>Synced <strong style=\"color:#cdcd00\">lr-0.001</strong>: <a href=\"https://wandb.ai/ranuga-d/House-Price-Pred/runs/1onh4r6w\" target=\"_blank\">https://wandb.ai/ranuga-d/House-Price-Pred/runs/1onh4r6w</a><br/>\n",
       "                "
      ],
      "text/plain": [
       "<IPython.core.display.HTML object>"
      ]
     },
     "metadata": {},
     "output_type": "display_data"
    },
    {
     "data": {
      "text/html": [
       "...Successfully finished last run (ID:1onh4r6w). Initializing new run:<br/><br/>"
      ],
      "text/plain": [
       "<IPython.core.display.HTML object>"
      ]
     },
     "metadata": {},
     "output_type": "display_data"
    },
    {
     "data": {
      "text/html": [
       "\n",
       "                Tracking run with wandb version 0.10.30<br/>\n",
       "                Syncing run <strong style=\"color:#cdcd00\">lr-0.0001</strong> to <a href=\"https://wandb.ai\" target=\"_blank\">Weights & Biases</a> <a href=\"https://docs.wandb.com/integrations/jupyter.html\" target=\"_blank\">(Documentation)</a>.<br/>\n",
       "                Project page: <a href=\"https://wandb.ai/ranuga-d/House-Price-Pred\" target=\"_blank\">https://wandb.ai/ranuga-d/House-Price-Pred</a><br/>\n",
       "                Run page: <a href=\"https://wandb.ai/ranuga-d/House-Price-Pred/runs/21g3l6p0\" target=\"_blank\">https://wandb.ai/ranuga-d/House-Price-Pred/runs/21g3l6p0</a><br/>\n",
       "                Run data is saved locally in <code>/home/indika/Programming/Projects/Python/Artifical-Intelligence/PyTorch/Regression/house-price-preds/wandb/run-20210519_223253-21g3l6p0</code><br/><br/>\n",
       "            "
      ],
      "text/plain": [
       "<IPython.core.display.HTML object>"
      ]
     },
     "metadata": {},
     "output_type": "display_data"
    }
   ],
   "source": [
    "lrs = [0.125,0.25,0.5,0.75,1.0,0.1,0.01,0.001,0.0001]\n",
    "for lr in lrs:\n",
    "    model = Test_Model(activation=nn.LeakyReLU(),num_of_layers=2).to(device)\n",
    "    criterion = torch.nn.HingeEmbeddingLoss()\n",
    "    optimizer = torch.optim.Adamax(model.parameters(),lr=lr)\n",
    "    wandb.init(project=PROJECT_NAME,name=f'lr-{lr}')\n",
    "    for _ in tqdm(range(EPOCHS)):\n",
    "        model.to(device)\n",
    "        preds = model(X_train.float().to(device))\n",
    "        preds = preds.view(len(preds),)\n",
    "        preds.to(device)\n",
    "        loss = criterion(preds.float(),y_train.float().to(device))\n",
    "        optimizer.zero_grad()\n",
    "        loss.backward()\n",
    "        optimizer.step()\n",
    "        wandb.log({'loss':loss.item(),'val_loss':get_loss(criterion,X_test,y_test,model),'accuracy':get_accuracy(X_train,y_train,model),'val_accuracy':get_accuracy(X_test,y_test,model)})"
   ]
  },
  {
   "cell_type": "code",
   "execution_count": 46,
   "metadata": {},
   "outputs": [],
   "source": [
    "model = Test_Model(activation=nn.LeakyReLU(),num_of_layers=2).to(device)\n",
    "criterion = torch.nn.HingeEmbeddingLoss()\n",
    "optimizer = torch.optim.Adamax(model.parameters(),lr=0.25)\n",
    "wandb.init(project=PROJECT_NAME,name=f'big-dog-model')\n",
    "for _ in tqdm(range(250)):\n",
    "    model.to(device)\n",
    "    preds = model(X_train.float().to(device))\n",
    "    preds = preds.view(len(preds),)\n",
    "    preds.to(device)\n",
    "    loss = criterion(preds.float(),y_train.float().to(device))\n",
    "    optimizer.zero_grad()\n",
    "    loss.backward()\n",
    "    optimizer.step()\n",
    "    wandb.log({'loss':loss.item(),'val_loss':get_loss(criterion,X_test,y_test,model),'accuracy':get_accuracy(X_train,y_train,model),'val_accuracy':get_accuracy(X_test,y_test,model)})"
   ]
  }
 ],
 "metadata": {
  "kernelspec": {
   "display_name": "Python 3",
   "language": "python",
   "name": "python3"
  },
  "language_info": {
   "codemirror_mode": {
    "name": "ipython",
    "version": 3
   },
   "file_extension": ".py",
   "mimetype": "text/x-python",
   "name": "python",
   "nbconvert_exporter": "python",
   "pygments_lexer": "ipython3",
   "version": "3.7.3"
  }
 },
 "nbformat": 4,
 "nbformat_minor": 2
}
